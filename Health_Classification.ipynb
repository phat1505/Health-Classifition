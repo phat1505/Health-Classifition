{
  "cells": [
    {
      "cell_type": "markdown",
      "metadata": {
        "id": "view-in-github",
        "colab_type": "text"
      },
      "source": [
        "<a href=\"https://colab.research.google.com/github/phat1505/Health-Classifition/blob/main/Health_Classification.ipynb\" target=\"_parent\"><img src=\"https://colab.research.google.com/assets/colab-badge.svg\" alt=\"Open In Colab\"/></a>"
      ]
    },
    {
      "cell_type": "code",
      "execution_count": 1,
      "metadata": {
        "id": "B4k87BCsmFnA"
      },
      "outputs": [],
      "source": [
        "# Import các thư viện cần thiết\n",
        "%matplotlib inline\n",
        "import numpy as np\n",
        "import pandas as pd\n",
        "import matplotlib.pyplot as plt\n",
        "import seaborn as sns\n",
        "import plotly.graph_objects as go\n",
        "import plotly.offline as pyo\n",
        "import sklearn\n",
        "import plotly.express as ex\n",
        "import warnings\n",
        "from sklearn.cluster import KMeans\n",
        "from sklearn.preprocessing import StandardScaler, LabelEncoder\n",
        "from sklearn.model_selection import train_test_split\n",
        "from sklearn.naive_bayes import MultinomialNB\n",
        "from sklearn.metrics import accuracy_score, classification_report"
      ]
    },
    {
      "cell_type": "code",
      "execution_count": null,
      "metadata": {
        "id": "R2WpvwkpmJjy"
      },
      "outputs": [],
      "source": [
        "# Đọc dữ liệu từ tệp CSV 'health_classification.csv' và hiển thị 5 dòng đầu tiên của DataFrame\n",
        "df = pd.read_csv(\"/content/health_classification.csv\")\n",
        "df.head().T"
      ]
    },
    {
      "cell_type": "code",
      "execution_count": null,
      "metadata": {
        "id": "_iUYP4QjmjSH"
      },
      "outputs": [],
      "source": [
        "# In ra thông tin tổng quan của DataFrame 'df', bao gồm thông tin về cột và kiểu dữ liệu\n",
        "df.info()"
      ]
    },
    {
      "cell_type": "code",
      "execution_count": null,
      "metadata": {
        "id": "JqV-k7Aomkqs"
      },
      "outputs": [],
      "source": [
        "# Kiểm tra và in ra số lượng giá trị thiếu (NaN) trong từng cột của DataFrame 'df'\n",
        "df.isna().sum()"
      ]
    },
    {
      "cell_type": "code",
      "execution_count": null,
      "metadata": {
        "id": "9ZhoDfU9mpQ5"
      },
      "outputs": [],
      "source": [
        "# Hiển thị các thống kê mô tả cơ bản (mean, min, max, etc.) cho các cột có giá trị số\n",
        "df.describe()"
      ]
    },
    {
      "cell_type": "code",
      "execution_count": null,
      "metadata": {
        "id": "up-W5LLomr45"
      },
      "outputs": [],
      "source": [
        "# Hiển thị hình dạng của DataFrame 'df', tức số dòng và số cột\n",
        "df.shape"
      ]
    },
    {
      "cell_type": "code",
      "execution_count": 7,
      "metadata": {
        "id": "n5f9pkGknakw"
      },
      "outputs": [],
      "source": [
        "# Xác định các cột phân loại để thực hiện visualizations và thống kê\n",
        "cols = ['Gender','Blood Type', 'Medical Condition',\n",
        "        'Insurance Provider', 'Admission Type',\n",
        "        'Medication', 'Test Results']"
      ]
    },
    {
      "cell_type": "code",
      "execution_count": null,
      "metadata": {
        "id": "9aneMddnncVX"
      },
      "outputs": [],
      "source": [
        "# Đối với các đặc trưng phân loại\n",
        "for i in cols:\n",
        "\n",
        "    if i == 'Gender':\n",
        "        # Vẽ đồ thị cho đặc trưng 'Gender'\n",
        "        fig, ax = plt.subplots(1, 2)\n",
        "        fig.suptitle('** Giới tính **', fontsize=20)\n",
        "        plt.style.use('seaborn')\n",
        "        plt.subplot(1,2,1)\n",
        "        df['Gender'].value_counts().plot(kind='bar',color=sns.color_palette(\"tab10\"))\n",
        "        plt.subplot(1,2,2)\n",
        "        df['Gender'].value_counts().plot(kind='pie',autopct=\"%.2f%%\")\n",
        "        plt.show()\n",
        "\n",
        "    else:\n",
        "        # Vẽ đồ thị cho các đặc trưng khác\n",
        "        fig, ax = plt.subplots(1, 2)\n",
        "        fig.suptitle('** ' + i + ' **', fontsize=20)\n",
        "        plt.style.use('seaborn')\n",
        "        plt.subplot(1,2,1)\n",
        "        df[i].value_counts().plot(kind='bar',color=sns.color_palette(\"tab10\"))\n",
        "        plt.subplot(1,2,2)\n",
        "        df[i].value_counts().plot(kind='pie',autopct=\"%.2f%%\")\n",
        "        plt.show()"
      ]
    },
    {
      "cell_type": "code",
      "execution_count": null,
      "metadata": {
        "id": "YJmVnZ1enstW"
      },
      "outputs": [],
      "source": [
        "# Tạo DataFrame mới bằng cách nhóm dữ liệu theo cặp cột 'Medical Condition' và 'Medication',\n",
        "# tính tổng 'Billing Amount' trong mỗi nhóm và reset index\n",
        "df_trans = df.groupby(['Medical Condition', 'Medication'])[['Billing Amount']].sum().reset_index()\n",
        "\n",
        "# Tạo biểu đồ cột thể hiện 'Billing Amount' theo 'Medical Condition' và 'Medication',\n",
        "# sử dụng màu sắc khác nhau cho từng giá trị trong 'Medication'\n",
        "plt.figure(figsize=(15,6))\n",
        "sns.barplot(x=df_trans['Medical Condition'], y=df_trans['Billing Amount'], hue=df_trans['Medication'], ci=None, palette=\"Set1\")\n",
        "# Đặt tiêu đề biểu đồ\n",
        "plt.title(\"Billing Amount according to Medical Condition and Medication\")\n",
        "# Đặt tên trục y\n",
        "plt.ylabel(\"Billing Amount\")\n",
        "# Xoay nhãn trục x và đặt kích thước font\n",
        "plt.xticks(rotation=45, fontsize=9)\n",
        "# Hiển thị biểu đồ\n",
        "plt.show()"
      ]
    },
    {
      "cell_type": "code",
      "execution_count": null,
      "metadata": {
        "id": "fKoZzRYplHYK"
      },
      "outputs": [],
      "source": [
        "# Tạo DataFrame mới bằng cách nhóm dữ liệu theo cặp cột 'Medical Condition' và 'Test Results',\n",
        "# tính tổng 'Billing Amount' trong mỗi nhóm và reset index\n",
        "df_trans = df.groupby(['Medical Condition', 'Test Results'])[['Billing Amount']].sum().reset_index()\n",
        "\n",
        "# Tạo biểu đồ cột thể hiện 'Billing Amount' theo 'Medical Condition' và 'Test Results',\n",
        "# sử dụng màu sắc khác nhau cho từng giá trị trong 'Test Results'\n",
        "plt.figure(figsize=(15,6))\n",
        "sns.barplot(x=df_trans['Medical Condition'], y=df_trans['Billing Amount'], hue=df_trans['Test Results'], ci=None, palette=\"Set1\")\n",
        "# Đặt tiêu đề biểu đồ\n",
        "plt.title(\"Billing Amount according to Medical Condition and Test Results\")\n",
        "# Đặt tên trục y\n",
        "plt.ylabel(\"Billing Amount\")\n",
        "# Xoay nhãn trục x và đặt kích thước font\n",
        "plt.xticks(rotation=45, fontsize=9)\n",
        "# Hiển thị biểu đồ\n",
        "plt.show()"
      ]
    },
    {
      "cell_type": "code",
      "execution_count": null,
      "metadata": {
        "id": "039kl9NyoEYl"
      },
      "outputs": [],
      "source": [
        "# Chuyển đổi 'Date of Admission' và 'Discharge Date' sang kiểu datetime\n",
        "df['Date of Admission'] = pd.to_datetime(df['Date of Admission'])\n",
        "df['Discharge Date'] = pd.to_datetime(df['Discharge Date'])\n",
        "\n",
        "# Tính 'Days hospitalized' là sự chênh lệch thời gian\n",
        "df['Days hospitalized'] = df['Discharge Date'] - df['Date of Admission']\n",
        "df.head()"
      ]
    },
    {
      "cell_type": "code",
      "execution_count": null,
      "metadata": {
        "id": "4CbSeZQDe7zR"
      },
      "outputs": [],
      "source": [
        "# Tính trung bình số ngày nhập viện cho mỗi thuộc tính, loại bỏ 'Days hospitalized'\n",
        "cols = df.columns\n",
        "\n",
        "for i in cols:\n",
        "    if i == 'Days hospitalized':\n",
        "        # Bỏ qua cột 'Days hospitalized'\n",
        "        continue\n",
        "\n",
        "    # Tính trung bình số ngày nhập viện cho từng giá trị trong cột 'i'\n",
        "    char_bar = df.groupby([i])[['Days hospitalized']].mean().reset_index()\n",
        "    char_bar = char_bar.sort_values(by=(\"Days hospitalized\"), ascending=False)\n",
        "\n",
        "    top = char_bar.head(10)\n",
        "    fig = go.Figure(go.Bar(x=top[i], y=top['Days hospitalized']))\n",
        "\n",
        "    fig.update_layout(title=\"Highest \" + i + \" according to average number of days hospitalized\",\n",
        "                      xaxis_title=i,\n",
        "                      yaxis_title=\"Days hospitalized\",\n",
        "                      plot_bgcolor='black',\n",
        "                      paper_bgcolor='gray',\n",
        "                      font=dict(color='white'))\n",
        "\n",
        "    # Hiển thị biểu đồ bằng pio trong Colab\n",
        "    pio.show(fig, renderer=\"colab\")"
      ]
    },
    {
      "cell_type": "code",
      "execution_count": null,
      "metadata": {
        "id": "QQiOyiyn_K_0"
      },
      "outputs": [],
      "source": [
        "# Thay thế giá trị thiếu bằng giá trị trung bình cho các cột số\n",
        "df.fillna(df.mean(), inplace=True)\n",
        "\n",
        "# Chọn các cột có liên quan và biến cố mục tiêu\n",
        "selected_columns = [ 'Gender','Blood Type', 'Medical Condition',\n",
        "        'Medication', 'Test Results']\n",
        "data_for_plot = df[selected_columns]\n",
        "\n",
        "# Chuyển đổi dữ liệu văn bản thành dữ liệu số bằng LabelEncoder\n",
        "le = LabelEncoder()\n",
        "for column in data_for_plot.select_dtypes(include=['object']).columns:\n",
        "    data_for_plot[column] = le.fit_transform(data_for_plot[column])\n",
        "\n",
        "# Trực quan hóa mỗi thuộc tính so với 'Test Results' bằng countplot\n",
        "for column in data_for_plot.columns[:-1]:  # Loại bỏ 'Test Results'\n",
        "    plt.figure(figsize=(25, 8))\n",
        "    sns.countplot(x=column, hue='Test Results', data=data_for_plot)\n",
        "    plt.title(f'{column} vs Test Results')\n",
        "    plt.show()\n"
      ]
    },
    {
      "cell_type": "code",
      "execution_count": null,
      "metadata": {
        "id": "codLUc0a_wEG"
      },
      "outputs": [],
      "source": [
        "#Thuật toán phân cụm\n",
        "\n",
        "# Thay thế giá trị thiếu bằng giá trị trung bình cho các cột số\n",
        "df.fillna(df.mean(), inplace=True)\n",
        "\n",
        "# Chọn các cột số có liên quan để thực hiện phân cụm (loại bỏ 'Test Results')\n",
        "numeric_columns = df.select_dtypes(include=['number']).columns\n",
        "numeric_columns = numeric_columns[numeric_columns != 'Test Results']\n",
        "X = df[numeric_columns]\n",
        "\n",
        "# Chuẩn hóa dữ liệu\n",
        "scaler = StandardScaler()\n",
        "X_scaled = scaler.fit_transform(X)\n",
        "\n",
        "# Áp dụng thuật toán phân cụm K-Means\n",
        "n_clusters = 3\n",
        "kmeans = KMeans(n_clusters=n_clusters, random_state=0)\n",
        "kmeans.fit(X_scaled)\n",
        "\n",
        "# Thêm cột 'Cluster' vào DataFrame\n",
        "df['Cluster'] = kmeans.labels_\n",
        "\n",
        "# Trực quan hóa kết quả phân cụm\n",
        "sns.pairplot(df, hue='Cluster', palette='viridis')\n",
        "plt.show()"
      ]
    },
    {
      "cell_type": "code",
      "execution_count": null,
      "metadata": {
        "id": "wJmmGzbCEciN"
      },
      "outputs": [],
      "source": [
        "data_for_plot = df[selected_columns]\n",
        "# Khám phá dữ liệu trong từng cụm cho từng cột với 'Test Results'\n",
        "for column in selected_columns[:-1]:  # Loại bỏ 'Test Results' vì nó là biến độc lập\n",
        "    plt.figure(figsize=(10, 6))\n",
        "\n",
        "    # Thống kê cơ bản cho từng cụm\n",
        "    for cluster_id in range(n_clusters):\n",
        "        cluster_data = df[df['Cluster'] == cluster_id]\n",
        "        cluster_stats = cluster_data[column].describe()\n",
        "\n",
        "        print(f\"Cluster {cluster_id} Statistics for {column}:\")\n",
        "        print(cluster_stats)\n",
        "        print(\"\\n\")\n",
        "\n",
        "    # Trực quan hóa cụm cho từng cột với 'Test Results'\n",
        "    sns.scatterplot(data=df, x='Test Results', y=column, hue='Cluster', palette='viridis')\n",
        "\n",
        "    # Đặt tên cho trục và tiêu đề\n",
        "    plt.xlabel('Test Results')\n",
        "    plt.ylabel(column)\n",
        "    plt.title(f'Clustered Data for {column} vs Test Results')\n",
        "\n",
        "    # Hiển thị biểu đồ\n",
        "    plt.show()"
      ]
    },
    {
      "cell_type": "code",
      "execution_count": 27,
      "metadata": {
        "id": "eM6R4qgp-8Yc"
      },
      "outputs": [],
      "source": [
        "#Thuật toán Naive Bayes\n",
        "\n",
        "# Loại bỏ các hàng có giá trị thiếu\n",
        "df.dropna(inplace=True)\n",
        "columns = ['Gender','Blood Type', 'Medical Condition',\n",
        "        'Medication', 'Test Results']\n",
        "# Tách dữ liệu thành đặc trưng (X) và biến mục tiêu (y)\n",
        "X = df[columns]\n",
        "y = df['Test Results']\n",
        "\n",
        "# Chuyển đổi dữ liệu văn bản thành dữ liệu số bằng LabelEncoder\n",
        "le = LabelEncoder()\n",
        "for column in X.select_dtypes(include=['object']).columns:\n",
        "    X[column] = le.fit_transform(X[column])\n",
        "\n",
        "# Chia dữ liệu thành tập huấn luyện và tập kiểm tra\n",
        "X_train, X_test, y_train, y_test = train_test_split(X, y, test_size=0.2, random_state=42)"
      ]
    },
    {
      "cell_type": "code",
      "execution_count": null,
      "metadata": {
        "id": "aC0GsbrvWwo2"
      },
      "outputs": [],
      "source": [
        "# Huấn luyện mô hình Naive Bayes\n",
        "nb_model = MultinomialNB()\n",
        "nb_model.fit(X_train, y_train)"
      ]
    },
    {
      "cell_type": "code",
      "execution_count": null,
      "metadata": {
        "id": "zaBrrdYTWWvX"
      },
      "outputs": [],
      "source": [
        "# Thực hiện tinh chỉnh tham số alpha\n",
        "alphas = [0.1, 0.5, 1.0, 1.5, 2.0]\n",
        "for alpha in alphas:\n",
        "    nb_model = MultinomialNB(alpha=alpha)\n",
        "    nb_model.fit(X_train, y_train)\n",
        "    y_pred_nb = nb_model.predict(X_test)\n",
        "    accuracy_nb = accuracy_score(y_test, y_pred_nb)\n",
        "    print(f'Alpha = {alpha}, Naive Bayes Accuracy: {accuracy_nb}')\n",
        "\n",
        "# Chọn alpha có độ chính xác cao nhất để huấn luyện mô hình\n",
        "best_alpha = alphas[np.argmax(accuracy_nb)]\n",
        "\n",
        "# Huấn luyện mô hình với alpha tốt nhất\n",
        "nb_model = MultinomialNB(alpha=best_alpha)\n",
        "nb_model.fit(X_train, y_train)\n",
        "y_pred_nb = nb_model.predict(X_test)\n",
        "\n",
        "# In ra độ chính xác và báo cáo phân loại cuối cùng\n",
        "accuracy_nb_final = accuracy_score(y_test, y_pred_nb)\n",
        "print(f'Naive Bayes Final Accuracy: {accuracy_nb_final}')\n",
        "print('Naive Bayes Final Classification Report:')\n",
        "print(classification_report(y_test, y_pred_nb))"
      ]
    }
  ],
  "metadata": {
    "accelerator": "TPU",
    "colab": {
      "provenance": [],
      "include_colab_link": true
    },
    "kernelspec": {
      "display_name": "Python 3",
      "name": "python3"
    },
    "language_info": {
      "name": "python"
    }
  },
  "nbformat": 4,
  "nbformat_minor": 0
}